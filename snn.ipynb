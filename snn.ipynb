{
 "cells": [
  {
   "cell_type": "code",
   "execution_count": 1,
   "metadata": {},
   "outputs": [],
   "source": [
    "import numpy as np"
   ]
  },
  {
   "cell_type": "code",
   "execution_count": 2,
   "metadata": {},
   "outputs": [],
   "source": [
    "class neuronLayer():\n",
    "    def __init__(self, neurons, inputs):\n",
    "        self.synapticWeights = 2 * np.random.random((inputs, neurons)) - 1"
   ]
  },
  {
   "cell_type": "code",
   "execution_count": 3,
   "metadata": {},
   "outputs": [],
   "source": [
    "class neuralNet:\n",
    "    def __init__(self, layer1, layer2):\n",
    "        self.layer1 = layer1\n",
    "        self.layer2 = layer2\n",
    "    \n",
    "    def sigmoid(self, x):\n",
    "        return 1 / (1 + np.exp(-x))\n",
    "\n",
    "    def sigmoidDer(self, x):\n",
    "        return x * (1 - x)\n",
    "    \n",
    "    def train(self, tsi, tso, epochs):\n",
    "        for i in range(epochs):\n",
    "            layerOut1, layerOut2 = self.forward(tsi)\n",
    "\n",
    "            layerErr2 = tso - layerOut2\n",
    "            layerDel2 = layerErr2 * self.sigmoidDer(layerOut2)\n",
    "\n",
    "            layerErr1 = layerDel2.dot(self.layer2.synapticWeights.T)\n",
    "            layerDel1 = layerErr1 * self.sigmoidDer(layerOut1)\n",
    "\n",
    "            layerAdj1 = tsi.T.dot(layerDel1)\n",
    "            layerAdj2 = layerOut1.T.dot(layerDel2)\n",
    "\n",
    "            self.layer1.synapticWeights += layerAdj1\n",
    "            self.layer2.synapticWeights += layerAdj2\n",
    "\n",
    "    def forward(self, inputs):\n",
    "        layerOut1 = self.sigmoid(np.dot(inputs, self.layer1.synapticWeights))\n",
    "        layerOut2 = self.sigmoid(np.dot(layerOut1, self.layer2.synapticWeights))\n",
    "        return layerOut1, layerOut2\n",
    "\n",
    "    def test(self, inputs):\n",
    "        layerOut1 = self.sigmoid(np.dot(inputs, self.layer1.synapticWeights))\n",
    "        layerOut2 = self.sigmoid(np.dot(layerOut1, self.layer2.synapticWeights))\n",
    "        return layerOut2\n",
    "\n",
    "    def weightPri(self):\n",
    "        print(\"Layer 1 Weights:\\n\", self.layer1.synapticWeights)\n",
    "        print(\"Layer 2 Weights:\\n\", self.layer2.synapticWeights)"
   ]
  },
  {
   "cell_type": "code",
   "execution_count": 4,
   "metadata": {},
   "outputs": [
    {
     "name": "stdout",
     "output_type": "stream",
     "text": [
      "Random starting synaptic weights: \n",
      "Layer 1 Weights:\n",
      " [[-0.16595599  0.44064899 -0.99977125 -0.39533485]\n",
      " [-0.70648822 -0.81532281 -0.62747958 -0.30887855]\n",
      " [-0.20646505  0.07763347 -0.16161097  0.370439  ]]\n",
      "Layer 2 Weights:\n",
      " [[-0.5910955 ]\n",
      " [ 0.75623487]\n",
      " [-0.94522481]\n",
      " [ 0.34093502]]\n",
      "New synaptic weights after training: \n",
      "Layer 1 Weights:\n",
      " [[-3.37929084  4.41287809 -4.90925125 -1.6886393 ]\n",
      " [-0.62690673 -0.35242537  0.14083041 -0.79450224]\n",
      " [-0.14817367 -0.40730417  0.90728067 -0.51696053]]\n",
      "Layer 2 Weights:\n",
      " [[-6.73177495]\n",
      " [ 6.92570475]\n",
      " [-9.02968973]\n",
      " [-2.66891219]]\n",
      "[1, 0, 1] -> 1:  [0.99793942]\n"
     ]
    }
   ],
   "source": [
    "if __name__ == '__main__':\n",
    "    np.random.seed(1)\n",
    "\n",
    "    layer1 = neuronLayer(4, 3)\n",
    "    layer2 = neuronLayer(1, 4)\n",
    "\n",
    "    neuralNet = neuralNet(layer1, layer2)\n",
    "\n",
    "    print(\"Random starting synaptic weights: \")\n",
    "    neuralNet.weightPri()\n",
    "\n",
    "    tsi = np.array([[0, 0, 0], [0, 0, 1], [0, 1, 1], [1, 0, 1], [1, 1, 0], [1, 1, 1]])\n",
    "    tso = np.array([[0, 0, 0, 1, 1, 1]]).T\n",
    "\n",
    "    #tsi = np.array([[0, 0, 1], [0, 1, 1], [1, 0, 1], [0, 1, 0], [1, 0, 0], [1, 1, 1], [0, 0, 0]])\n",
    "    #tso = np.array([[0, 1, 1, 1, 1, 0, 0]]).T\n",
    "\n",
    "    neuralNet.train(tsi, tso, 100000)\n",
    "\n",
    "    print(\"New synaptic weights after training: \")\n",
    "    neuralNet.weightPri()\n",
    "\n",
    "    print(\"[1, 0, 1] -> 1: \", neuralNet.test(np.array([1, 0, 1])))"
   ]
  }
 ],
 "metadata": {
  "interpreter": {
   "hash": "8a94588eda9d64d9e9a351ab8144e55b1fabf5113b54e67dd26a8c27df0381b3"
  },
  "kernelspec": {
   "display_name": "Python 3.10.2 64-bit",
   "language": "python",
   "name": "python3"
  },
  "language_info": {
   "codemirror_mode": {
    "name": "ipython",
    "version": 3
   },
   "file_extension": ".py",
   "mimetype": "text/x-python",
   "name": "python",
   "nbconvert_exporter": "python",
   "pygments_lexer": "ipython3",
   "version": "3.10.2"
  },
  "orig_nbformat": 4
 },
 "nbformat": 4,
 "nbformat_minor": 2
}
